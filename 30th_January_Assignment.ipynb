{
 "cells": [
  {
   "cell_type": "markdown",
   "id": "5a88df39",
   "metadata": {},
   "source": [
    "### Write a program to accept percentage from the user and display the grade according to the following criteria:\n",
    "### Marks,Grade\n",
    "### >90,A\n",
    "### >80 and <=90,B\n",
    "### >=60 and <=80 below 60,C\n",
    "### below 60,D"
   ]
  },
  {
   "cell_type": "code",
   "execution_count": 4,
   "id": "f4909f2f",
   "metadata": {},
   "outputs": [
    {
     "name": "stdout",
     "output_type": "stream",
     "text": [
      "Enter your percentage: 59\n",
      "Your grade is: D\n"
     ]
    }
   ],
   "source": [
    "def get_grade(percentage):\n",
    "    if percentage > 90:\n",
    "        return \"A\"\n",
    "    elif percentage > 80:\n",
    "        return \"B\"\n",
    "    elif percentage >= 60:\n",
    "        return \"C\"\n",
    "    else:\n",
    "        return \"D\"\n",
    "\n",
    "percentage = float(input(\"Enter your percentage: \"))\n",
    "grade = get_grade(percentage)\n",
    "print(\"Your grade is:\", grade)"
   ]
  },
  {
   "cell_type": "markdown",
   "id": "b783721c",
   "metadata": {},
   "source": [
    "### 2.Write a program to accept the cost price of a bike and display the road tax to be paid according to the following criteria:\n",
    "### Tax , Cost Price(in Rs)\n",
    "### 15% , >100000\n",
    "### 10% , >50000 and <= 100000\n",
    "### 5% , <= 50000"
   ]
  },
  {
   "cell_type": "code",
   "execution_count": 5,
   "id": "a4f7f371",
   "metadata": {},
   "outputs": [
    {
     "name": "stdout",
     "output_type": "stream",
     "text": [
      "Enter the cost price of the bike (in Rs): 190000\n",
      "The road tax to be paid is (in Rs): 28500.0\n"
     ]
    }
   ],
   "source": [
    "def calculate_road_tax(cost_price):\n",
    "    if cost_price > 100000:\n",
    "        return cost_price * 0.15\n",
    "    elif cost_price > 50000:\n",
    "        return cost_price * 0.1\n",
    "    else:\n",
    "        return cost_price * 0.05\n",
    "\n",
    "cost_price = float(input(\"Enter the cost price of the bike (in Rs): \"))\n",
    "road_tax = calculate_road_tax(cost_price)\n",
    "print(\"The road tax to be paid is (in Rs):\", road_tax)"
   ]
  },
  {
   "cell_type": "markdown",
   "id": "ae3abbfc",
   "metadata": {},
   "source": [
    "### 3. Accept any city from the user and display monuments of that city.\n",
    "### City,Monument\n",
    "### Delhi,Red Fort\n",
    "### Agra,Taj Mahal\n",
    "### Jaipur,Jal Mahal"
   ]
  },
  {
   "cell_type": "code",
   "execution_count": 6,
   "id": "9529b527",
   "metadata": {},
   "outputs": [
    {
     "name": "stdout",
     "output_type": "stream",
     "text": [
      "Enter a city name: Delhi\n",
      "The monument in Delhi is: Red Fort\n"
     ]
    }
   ],
   "source": [
    "def get_monument(city):\n",
    "    if city == \"Delhi\":\n",
    "        return \"Red Fort\"\n",
    "    elif city == \"Agra\":\n",
    "        return \"Taj Mahal\"\n",
    "    elif city == \"Jaipur\":\n",
    "        return \"Jal Mahal\"\n",
    "    else:\n",
    "        return \"Unknown monument\"\n",
    "\n",
    "city = input(\"Enter a city name: \")\n",
    "monument = get_monument(city)\n",
    "print(\"The monument in\", city, \"is:\", monument)"
   ]
  },
  {
   "cell_type": "markdown",
   "id": "0cafe8e2",
   "metadata": {},
   "source": [
    "### 4. Check how many times a given number can be divided by 3 before it is less than or equal to 10."
   ]
  },
  {
   "cell_type": "code",
   "execution_count": 9,
   "id": "63085b3e",
   "metadata": {},
   "outputs": [
    {
     "name": "stdout",
     "output_type": "stream",
     "text": [
      "Enter a number: 12\n",
      "The number can be divided by 3 1 times before it is less than or equal to 10.\n"
     ]
    }
   ],
   "source": [
    "def check_divisibility(number):\n",
    "    count = 0\n",
    "    while number > 10:\n",
    "        number = number / 3\n",
    "        count += 1\n",
    "    return count\n",
    "\n",
    "number = int(input(\"Enter a number: \"))\n",
    "count = check_divisibility(number)\n",
    "print(\"The number can be divided by 3\", count, \"times before it is less than or equal to 10.\")"
   ]
  },
  {
   "cell_type": "markdown",
   "id": "5729aadb",
   "metadata": {},
   "source": [
    "### 5. Why and When to Use while Loop in Python give a detailed description with example"
   ]
  },
  {
   "cell_type": "markdown",
   "id": "258dd4e9",
   "metadata": {},
   "source": [
    "#### A while loop in Python is used when you want to repeat a block of code as long as a certain condition is met."
   ]
  },
  {
   "cell_type": "code",
   "execution_count": 10,
   "id": "f3d8f379",
   "metadata": {},
   "outputs": [
    {
     "name": "stdout",
     "output_type": "stream",
     "text": [
      "0\n",
      "1\n",
      "2\n",
      "3\n",
      "4\n",
      "5\n",
      "6\n",
      "7\n",
      "8\n",
      "9\n"
     ]
    }
   ],
   "source": [
    "count = 0\n",
    "\n",
    "# while loop that increments count while it's less than 10\n",
    "while count < 10:\n",
    "    print(count)\n",
    "    count += 1"
   ]
  },
  {
   "cell_type": "markdown",
   "id": "af2a30ea",
   "metadata": {},
   "source": [
    "##### In this example, the while loop runs as long as the value of count is less than 10. At each iteration, the value of count is printed, and then it is incremented by 1 using the count += 1 statement. Once the value of count reaches 10, the condition count < 10 is no longer true, and the loop terminates."
   ]
  },
  {
   "cell_type": "markdown",
   "id": "c0928f0b",
   "metadata": {},
   "source": [
    "### 6. Use nested while loop to print 3 different pattern."
   ]
  },
  {
   "cell_type": "code",
   "execution_count": 12,
   "id": "cbb03fc2",
   "metadata": {},
   "outputs": [
    {
     "name": "stdout",
     "output_type": "stream",
     "text": [
      "*\n",
      "**\n",
      "***\n",
      "****\n",
      "*****\n"
     ]
    }
   ],
   "source": [
    "#triangle\n",
    "rows = 5\n",
    "for i in range(1, rows + 1):\n",
    "    for j in range(1, i + 1):\n",
    "        print(\"*\", end=\"\")\n",
    "    print(\"\")"
   ]
  },
  {
   "cell_type": "code",
   "execution_count": 13,
   "id": "c1029b78",
   "metadata": {},
   "outputs": [
    {
     "name": "stdout",
     "output_type": "stream",
     "text": [
      "*\n",
      "**\n",
      "***\n",
      "****\n",
      "*****\n",
      "****\n",
      "***\n",
      "**\n",
      "*\n"
     ]
    }
   ],
   "source": [
    "#Diamond\n",
    "rows = 5\n",
    "for i in range(1, rows * 2):\n",
    "    for j in range(rows - abs(rows - i)):\n",
    "        print(\"*\", end=\"\")\n",
    "    print(\"\")"
   ]
  },
  {
   "cell_type": "code",
   "execution_count": 15,
   "id": "b349fa5a",
   "metadata": {},
   "outputs": [
    {
     "name": "stdout",
     "output_type": "stream",
     "text": [
      "*   *\n",
      " * * \n",
      "  *  \n",
      " * * \n",
      "*   *\n"
     ]
    }
   ],
   "source": [
    "#x pattern\n",
    "rows = 5\n",
    "for i in range(rows):\n",
    "    for j in range(rows):\n",
    "        if i == j or i + j == rows - 1:\n",
    "            print(\"*\", end=\"\")\n",
    "        else:\n",
    "            print(\" \", end=\"\")\n",
    "    print(\"\")"
   ]
  },
  {
   "cell_type": "markdown",
   "id": "93ba07c0",
   "metadata": {},
   "source": [
    "### 7. Reverse a while loop to display numbers from 10 to 1."
   ]
  },
  {
   "cell_type": "code",
   "execution_count": 16,
   "id": "c8c53137",
   "metadata": {},
   "outputs": [
    {
     "name": "stdout",
     "output_type": "stream",
     "text": [
      "10\n",
      "9\n",
      "8\n",
      "7\n",
      "6\n",
      "5\n",
      "4\n",
      "3\n",
      "2\n",
      "1\n"
     ]
    }
   ],
   "source": [
    "count = 10\n",
    "\n",
    "# while loop that decrements count while it's greater than 0\n",
    "while count > 0:\n",
    "    print(count)\n",
    "    count -= 1"
   ]
  },
  {
   "cell_type": "markdown",
   "id": "69d1fbe4",
   "metadata": {},
   "source": [
    "### 8. Reverse a while loop to display numbers from 10 to 1"
   ]
  },
  {
   "cell_type": "code",
   "execution_count": 17,
   "id": "6d985326",
   "metadata": {},
   "outputs": [
    {
     "name": "stdout",
     "output_type": "stream",
     "text": [
      "10\n",
      "9\n",
      "8\n",
      "7\n",
      "6\n",
      "5\n",
      "4\n",
      "3\n",
      "2\n",
      "1\n"
     ]
    }
   ],
   "source": [
    "count = 10\n",
    "\n",
    "# while loop that decrements count while it's greater than 0\n",
    "while count > 0:\n",
    "    print(count)\n",
    "    count -= 1"
   ]
  },
  {
   "cell_type": "code",
   "execution_count": null,
   "id": "27504c18",
   "metadata": {},
   "outputs": [],
   "source": []
  }
 ],
 "metadata": {
  "kernelspec": {
   "display_name": "Python 3 (ipykernel)",
   "language": "python",
   "name": "python3"
  },
  "language_info": {
   "codemirror_mode": {
    "name": "ipython",
    "version": 3
   },
   "file_extension": ".py",
   "mimetype": "text/x-python",
   "name": "python",
   "nbconvert_exporter": "python",
   "pygments_lexer": "ipython3",
   "version": "3.9.13"
  }
 },
 "nbformat": 4,
 "nbformat_minor": 5
}
